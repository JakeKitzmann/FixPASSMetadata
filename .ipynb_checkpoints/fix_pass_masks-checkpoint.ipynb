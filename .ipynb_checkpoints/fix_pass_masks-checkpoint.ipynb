{
 "cells": [
  {
   "cell_type": "code",
   "execution_count": 1,
   "id": "7d65ff5f-97e6-4a6e-bbdc-6902a0c5781f",
   "metadata": {},
   "outputs": [],
   "source": [
    "import SimpleITK as sitk\n",
    "import numpy as np\n",
    "import os\n",
    "import matplotlib.pyplot as plt"
   ]
  },
  {
   "cell_type": "code",
   "execution_count": 2,
   "id": "58ea3ac7-cddb-4acf-80ea-f1a09ed35def",
   "metadata": {},
   "outputs": [],
   "source": [
    "mask_dir = 'Z:\\\\SierenLab\\\\jkitzmann\\\\PCCT\\\\Qr40_normalization\\\\qr40_PASSmasks'\n",
    "scan_dir = 'Z:\\\\SierenLab\\\\AP14120_Alpha'\n",
    "output_dir = 'Z:\\\\SierenLab\\\\AP14120_Alpha\\\\qr40_PASSmasks_resampled\\\\'"
   ]
  },
  {
   "cell_type": "markdown",
   "id": "bd83d296-6a58-4a7c-8bb7-c109e4d35c5b",
   "metadata": {},
   "source": [
    "Creating Resampled Masks"
   ]
  },
  {
   "cell_type": "code",
   "execution_count": 3,
   "id": "8e5e9a28-f074-4457-a868-8c39b0ca6ad0",
   "metadata": {},
   "outputs": [],
   "source": [
    "mask_paths = os.listdir(mask_dir)\n",
    "scan_paths_all = os.listdir(scan_dir)\n",
    "\n",
    "masks = []\n",
    "scan_paths = []\n",
    "\n",
    "for mask_path in mask_paths:\n",
    "    masks.append(sitk.ReadImage('qr40_PASSmasks\\\\' + mask_path))\n",
    "\n",
    "    for scan_path in scan_paths_all:\n",
    "        try:\n",
    "            if scan_path.split('.')[-2] == 'nii':\n",
    "                if mask_path.split('.')[-4].split('_')[-1] == scan_path.split('.')[-3].split('_')[-1]:\n",
    "                    scan_paths.append(scan_dir + '\\\\' + scan_path)\n",
    "        except IndexError as err:\n",
    "            pass\n"
   ]
  },
  {
   "cell_type": "code",
   "execution_count": 4,
   "id": "02a6b075-dffe-4aff-9fbe-7346d88d0af8",
   "metadata": {},
   "outputs": [
    {
     "name": "stdout",
     "output_type": "stream",
     "text": [
      "Z:\\SierenLab\\AP14120_Alpha\\1024 BH1-1 HRUQ+ kV-140 Pitch-1 CKIQ-80 0.20 Qr40 Q3_8978.nii.gz\n",
      "Z:\\SierenLab\\AP14120_Alpha\\1024 BH3-1 HRUQ+ kV-140 Pitch-1 CKIQ-80 0.20 Qr40 Q3_8567.nii.gz\n",
      "Z:\\SierenLab\\AP14120_Alpha\\1024 BH4-1 HRUQ+ kV-140 Pitch-1 CKIQ-80 0.20 Qr40 Q3_3909.nii.gz\n",
      "Z:\\SierenLab\\AP14120_Alpha\\1024 BH4-2 HRUQ+ kV-140 Pitch-1 CKIQ-80 0.20 Qr40 Q3_1869.nii.gz\n"
     ]
    }
   ],
   "source": [
    "# separate cell because this takes forever with the 1024 scans\n",
    "scans = []\n",
    "\n",
    "for scan_path in scan_paths:\n",
    "    print(scan_path)\n",
    "    scans.append(sitk.ReadImage(scan_path))"
   ]
  },
  {
   "cell_type": "code",
   "execution_count": 5,
   "id": "1e5ead10-cabd-4379-850e-359f1d9f9e6a",
   "metadata": {},
   "outputs": [
    {
     "name": "stdout",
     "output_type": "stream",
     "text": [
      "mask: 8978\n",
      "mask spacing: (0.234375, 0.234375, 0.15000000596046448)\n",
      "mask dcm: (1.0, 0.0, 0.0, 0.0, 1.0, 0.0, 0.0, 0.0, 1.0)\n",
      "mask origin: (-128.8828125, 62.1171875, 1531.373046875)\n",
      "scan: 8978\n",
      "scan spacing: (0.234375, 0.234375, 0.15000000596046448)\n",
      "scan dcm: (-1.0, 0.0, 0.0, 0.0, -1.0, 0.0, 0.0, 0.0, 1.0)\n",
      "scan origin: (110.8828125, 301.8828125, 1531.373046875)\n",
      "mask: 8567\n",
      "mask spacing: (0.234375, 0.234375, 0.15000000596046448)\n",
      "mask dcm: (1.0, 0.0, 0.0, 0.0, 1.0, 0.0, 0.0, 0.0, 1.0)\n",
      "mask origin: (-128.8828125, 62.1171875, 1578.3170166015625)\n",
      "scan: 8567\n",
      "scan spacing: (0.234375, 0.234375, 0.15000000596046448)\n",
      "scan dcm: (-1.0, 0.0, 0.0, 0.0, -1.0, 0.0, 0.0, 0.0, 1.0)\n",
      "scan origin: (110.8828125, 301.8828125, 1578.3170166015625)\n",
      "mask: 3909\n",
      "mask spacing: (0.234375, 0.234375, 0.15000000596046448)\n",
      "mask dcm: (1.0, 0.0, 0.0, 0.0, 1.0, 0.0, 0.0, 0.0, 1.0)\n",
      "mask origin: (-128.8828125, 62.1171875, 1578.3170166015625)\n",
      "scan: 3909\n",
      "scan spacing: (0.234375, 0.234375, 0.15000000596046448)\n",
      "scan dcm: (-1.0, 0.0, 0.0, 0.0, -1.0, 0.0, 0.0, 0.0, 1.0)\n",
      "scan origin: (110.8828125, 301.8828125, 1578.3170166015625)\n",
      "mask: 1869\n",
      "mask spacing: (0.234375, 0.234375, 0.15000000596046448)\n",
      "mask dcm: (1.0, 0.0, 0.0, 0.0, 1.0, 0.0, 0.0, 0.0, 1.0)\n",
      "mask origin: (-128.8828125, 62.1171875, 1582.8170166015625)\n",
      "scan: 1869\n",
      "scan spacing: (0.234375, 0.234375, 0.15000000596046448)\n",
      "scan dcm: (-1.0, 0.0, 0.0, 0.0, -1.0, 0.0, 0.0, 0.0, 1.0)\n",
      "scan origin: (110.8828125, 301.8828125, 1582.8170166015625)\n"
     ]
    }
   ],
   "source": [
    "for idx, mask in enumerate(masks):\n",
    "    num = mask_paths[idx].split('.')[-4].split('_')[-1]\n",
    "    print(f'mask: {num}')\n",
    "    print(f'mask spacing: {mask.GetSpacing()}')\n",
    "    print(f'mask dcm: {mask.GetDirection()}')\n",
    "    print(f'mask origin: {mask.GetOrigin()}')\n",
    "    print(f'scan: {num}')\n",
    "    print(f'scan spacing: {scans[idx].GetSpacing()}')\n",
    "    print(f'scan dcm: {scans[idx].GetDirection()}')\n",
    "    print(f'scan origin: {scans[idx].GetOrigin()}')\n",
    "    print()"
   ]
  },
  {
   "cell_type": "code",
   "execution_count": 6,
   "id": "5d614c70-53b1-4526-aa5f-43d33a0c0d97",
   "metadata": {},
   "outputs": [],
   "source": [
    "def resample(ref_img, img):\n",
    "    resample_filter = sitk.ResampleImageFilter()\n",
    "\n",
    "    resample_filter.SetOutputOrigin(ref_img.GetOrigin())\n",
    "    resample_filter.SetOutputDirection(ref_img.GetDirection())\n",
    "    resample_filter.SetOutputSpacing(ref_img.GetSpacing())\n",
    "    resample_filter.SetSize(ref_img.GetSize())\n",
    "    resample_filter.SetInterpolator(sitk.sitkLinear)\n",
    "\n",
    "    return resample_filter.Execute(img)"
   ]
  },
  {
   "cell_type": "code",
   "execution_count": 7,
   "id": "70bf40f5-7c61-4b08-9881-989d4fad8b60",
   "metadata": {},
   "outputs": [],
   "source": [
    "resampled_masks = []\n",
    "\n",
    "for idx, mask in enumerate(masks):\n",
    "    resampled_masks.append(resample(scans[idx], mask))"
   ]
  },
  {
   "cell_type": "code",
   "execution_count": 8,
   "id": "a1f77c72-f8d7-4573-8053-93e7090df62e",
   "metadata": {},
   "outputs": [
    {
     "name": "stdout",
     "output_type": "stream",
     "text": [
      "mask: 8978\n",
      "mask spacing: (0.234375, 0.234375, 0.15000000596046448)\n",
      "mask dcm: (-1.0, 0.0, 0.0, 0.0, -1.0, 0.0, 0.0, 0.0, 1.0)\n",
      "mask origin: (110.8828125, 301.8828125, 1531.373046875)\n",
      "scan: 8978\n",
      "scan spacing: (0.234375, 0.234375, 0.15000000596046448)\n",
      "scan dcm: (-1.0, 0.0, 0.0, 0.0, -1.0, 0.0, 0.0, 0.0, 1.0)\n",
      "scan origin: (110.8828125, 301.8828125, 1531.373046875)\n",
      "mask: 8567\n",
      "mask spacing: (0.234375, 0.234375, 0.15000000596046448)\n",
      "mask dcm: (-1.0, 0.0, 0.0, 0.0, -1.0, 0.0, 0.0, 0.0, 1.0)\n",
      "mask origin: (110.8828125, 301.8828125, 1578.3170166015625)\n",
      "scan: 8567\n",
      "scan spacing: (0.234375, 0.234375, 0.15000000596046448)\n",
      "scan dcm: (-1.0, 0.0, 0.0, 0.0, -1.0, 0.0, 0.0, 0.0, 1.0)\n",
      "scan origin: (110.8828125, 301.8828125, 1578.3170166015625)\n",
      "mask: 3909\n",
      "mask spacing: (0.234375, 0.234375, 0.15000000596046448)\n",
      "mask dcm: (-1.0, 0.0, 0.0, 0.0, -1.0, 0.0, 0.0, 0.0, 1.0)\n",
      "mask origin: (110.8828125, 301.8828125, 1578.3170166015625)\n",
      "scan: 3909\n",
      "scan spacing: (0.234375, 0.234375, 0.15000000596046448)\n",
      "scan dcm: (-1.0, 0.0, 0.0, 0.0, -1.0, 0.0, 0.0, 0.0, 1.0)\n",
      "scan origin: (110.8828125, 301.8828125, 1578.3170166015625)\n",
      "mask: 1869\n",
      "mask spacing: (0.234375, 0.234375, 0.15000000596046448)\n",
      "mask dcm: (-1.0, 0.0, 0.0, 0.0, -1.0, 0.0, 0.0, 0.0, 1.0)\n",
      "mask origin: (110.8828125, 301.8828125, 1582.8170166015625)\n",
      "scan: 1869\n",
      "scan spacing: (0.234375, 0.234375, 0.15000000596046448)\n",
      "scan dcm: (-1.0, 0.0, 0.0, 0.0, -1.0, 0.0, 0.0, 0.0, 1.0)\n",
      "scan origin: (110.8828125, 301.8828125, 1582.8170166015625)\n"
     ]
    }
   ],
   "source": [
    "for idx, mask in enumerate(resampled_masks):\n",
    "    num = mask_paths[idx].split('.')[-4].split('_')[-1]\n",
    "    print(f'mask: {num}')\n",
    "    print(f'mask spacing: {mask.GetSpacing()}')\n",
    "    print(f'mask dcm: {mask.GetDirection()}')\n",
    "    print(f'mask origin: {mask.GetOrigin()}')\n",
    "    print(f'scan: {num}')\n",
    "    print(f'scan spacing: {scans[idx].GetSpacing()}')\n",
    "    print(f'scan dcm: {scans[idx].GetDirection()}')\n",
    "    print(f'scan origin: {scans[idx].GetOrigin()}')\n",
    "    print()"
   ]
  },
  {
   "cell_type": "code",
   "execution_count": 9,
   "id": "fc0882da-9cee-489a-a9a9-103dedd3987f",
   "metadata": {},
   "outputs": [
    {
     "name": "stdout",
     "output_type": "stream",
     "text": [
      "writing to: Z:\\SierenLab\\AP14120_Alpha\\qr40_PASSmasks_resampled\\1024 BH1-1 HRUQ+ kV-140 Pitch-1 CKIQ-80 0.20 Qr40 Q3_8978.mask.nii.gz\n",
      "writing to: Z:\\SierenLab\\AP14120_Alpha\\qr40_PASSmasks_resampled\\1024 BH3-1 HRUQ+ kV-140 Pitch-1 CKIQ-80 0.20 Qr40 Q3_8567.mask.nii.gz\n",
      "writing to: Z:\\SierenLab\\AP14120_Alpha\\qr40_PASSmasks_resampled\\1024 BH4-1 HRUQ+ kV-140 Pitch-1 CKIQ-80 0.20 Qr40 Q3_3909.mask.nii.gz\n",
      "writing to: Z:\\SierenLab\\AP14120_Alpha\\qr40_PASSmasks_resampled\\1024 BH4-2 HRUQ+ kV-140 Pitch-1 CKIQ-80 0.20 Qr40 Q3_1869.mask.nii.gz\n"
     ]
    }
   ],
   "source": [
    "for idx, resampled_mask in enumerate(resampled_masks):\n",
    "    output_path = output_dir + mask_paths[idx].split('\\\\')[-1]\n",
    "    print(f'writing to: {output_path}')\n",
    "    #sitk.WriteImage(resampled_mask, output_path)"
   ]
  }
 ],
 "metadata": {
  "kernelspec": {
   "display_name": "Python 3 (ipykernel)",
   "language": "python",
   "name": "python3"
  },
  "language_info": {
   "codemirror_mode": {
    "name": "ipython",
    "version": 3
   },
   "file_extension": ".py",
   "mimetype": "text/x-python",
   "name": "python",
   "nbconvert_exporter": "python",
   "pygments_lexer": "ipython3",
   "version": "3.10.1"
  }
 },
 "nbformat": 4,
 "nbformat_minor": 5
}
